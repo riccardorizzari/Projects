{
 "cells": [
  {
   "cell_type": "markdown",
   "metadata": {},
   "source": [
    "# Optiver Quiz - Solution"
   ]
  },
  {
   "cell_type": "markdown",
   "metadata": {},
   "source": [
    "This quiz can be found on the [Optiver's webpage](https://www.optiver.com/eu/en/job-opportunities/eu-517702).\n",
    "\n",
    "This is the original text of the quiz:\n",
    "\n",
    "**Can you solve this puzzle?**\n",
    "\n",
    "Three players A, B, C play the following game. First, A picks a real number between 0 and 1 (both inclusive), then B picks a number in the same range (different from A’s choice) and finally C picks a number, also in the same range, (different from the two chosen numbers). We then pick a number in the range uniformly randomly. Whoever’s number is closest to this random number wins the game. Assume that A, B and C all play optimally and their sole goal is to maximise their chances of winning. Also assume that if one of them has several optimal choices, then that player will randomly pick one of the optimal choices.\n",
    "\n",
    "- a) If A chooses 0, then what is the best choice for B?\n",
    "- b) What is the best choice for A?\n",
    "- c) Can you write a program to figure out the best choice for the first player when the game is played among four players?"
   ]
  },
  {
   "cell_type": "markdown",
   "metadata": {},
   "source": [
    "### Strategy of the implementation"
   ]
  },
  {
   "cell_type": "markdown",
   "metadata": {},
   "source": [
    "- I apply a *brute force* approach where I evaluate all possible combinations of choices for all players. \n",
    "- I assume the game is played between $0$ and $100$ (as these value can be interpreted as percentages) and I assume that $1\\%$ is the minimum distance two players' choices can differ by.\n",
    "- I represent the game decision tree as nested Python dictionaries, where each key of the dictionary corresponds to a decision of position for a given player.\n",
    "- Loosely speaking, the algorithm of the *optiver_tree()* function (which is the main function to solve the quiz) basically performs a dynamic optimization: for every choice of the players from the first to the last, it checks the optimal solution of the last player who has to choose and then propagates this optimal choice back to the preceeding player, and so on to the first player. The resulting decision tree represents the optimal choices for all players.\n",
    "- The optimal choice for any given player is obviously the choice that maximizes her probabilities of winning.\n",
    "- Several enhancements are possible, like taking into account the symmetry of the [0,1] interval, or avoiding the *brute-force* approach, since with only 5 players would take too long to evaluate (with 4 players the code below evaluates $94\\,109\\,400$ possible choices, while with 5 players it has to evaluate a whopping $9\\,034\\,502\\,400$ of possibile combinations!)."
   ]
  },
  {
   "cell_type": "markdown",
   "metadata": {},
   "source": [
    "### Function to evaluate a single combination of positions"
   ]
  },
  {
   "cell_type": "code",
   "execution_count": 1,
   "metadata": {},
   "outputs": [],
   "source": [
    "import pprint\n",
    "game = [i for i in range(101)]"
   ]
  },
  {
   "cell_type": "code",
   "execution_count": 2,
   "metadata": {},
   "outputs": [
    {
     "data": {
      "text/plain": [
       "[37.5, 25.0, 37.5]"
      ]
     },
     "execution_count": 2,
     "metadata": {},
     "output_type": "execute_result"
    }
   ],
   "source": [
    "def evaluate_position(tocheck, game_board=game):\n",
    "    ''' \n",
    "    It takes in an array with players' positions and returns the probabilities \n",
    "    of winning the game for each player\n",
    "    '''\n",
    "    results = []\n",
    "    orders = []\n",
    "    final_results = []\n",
    "    tocheck_sorted = sorted(tocheck)\n",
    "    assert len(list(set(tocheck)))==len(tocheck_sorted)\n",
    "    for idx, x in enumerate(tocheck_sorted):\n",
    "        if x == min(tocheck_sorted): \n",
    "            results.append(x + (tocheck_sorted[idx+1]- x)/2)\n",
    "            orders.append(x)\n",
    "        elif x == max(tocheck_sorted): \n",
    "            results.append(len(game_board)-1-x + abs(tocheck_sorted[idx-1]- x)/2)\n",
    "            orders.append(x)\n",
    "        else:               \n",
    "            results.append(abs(tocheck_sorted[idx-1]- x)/2 + abs(tocheck_sorted[idx+1]- x)/2)\n",
    "            orders.append(x)\n",
    "    for x in tocheck:\n",
    "        for idx, y in enumerate(orders):\n",
    "            if x == y: final_results.append(results[idx])\n",
    "    return final_results\n",
    "\n",
    "evaluate_position((25,50,75), game)"
   ]
  },
  {
   "cell_type": "markdown",
   "metadata": {},
   "source": [
    "### Optiver tree recursive function"
   ]
  },
  {
   "cell_type": "code",
   "execution_count": 3,
   "metadata": {},
   "outputs": [],
   "source": [
    "def solve_optiver_quiz(num_players, fix_player=0, fix_player_value=0):\n",
    "    return optiver_tree(num_players, 1, 0, {}, [], [], fix_player, fix_player_value)[0] \n",
    "\n",
    "def optiver_tree(num_players, game_step=1, player_num=0, tree={}, game_keys=[], max_val=[], \n",
    "                 fix_player=0, fix_player_value=0):\n",
    "    assert num_players > 1, 'Number of Player has to be greater than one.'\n",
    "    assert num_players <= 4, 'It takes too long to evaluate with more than 4 players!'\n",
    "    if not max_val: max_val=[-float('inf')]*num_players\n",
    "    game_val = []\n",
    "    opt_val = []\n",
    "    count = 1\n",
    "    run_next = True\n",
    "    for i in range(0, 101, game_step):\n",
    "        if fix_player == (player_num+1) and i != fix_player_value: run_next = False\n",
    "        if not i in game_keys and run_next:\n",
    "            game_keys.append(i)\n",
    "            if player_num == num_players-1:\n",
    "                game_val = evaluate_position(game_keys)\n",
    "            else:\n",
    "                tree_result, game_val = optiver_tree(num_players, game_step, player_num+1, {}, game_keys\n",
    "                                                     , [], fix_player, fix_player_value)\n",
    "            if game_val:\n",
    "                if game_val[player_num] > max_val[player_num]:\n",
    "                    tree = {}\n",
    "                    if player_num != num_players-1:\n",
    "                        tree[i] = tree_result\n",
    "                    else: tree[i] = game_val\n",
    "                    max_val[player_num] = game_val[player_num]\n",
    "                    opt_val = game_val\n",
    "                    count = 1\n",
    "                elif game_val[player_num] == max_val[player_num]:\n",
    "                    if player_num != num_players-1:\n",
    "                        tree[i] = tree_result\n",
    "                    else: tree[i] = game_val\n",
    "                    opt_val = [a+b for a,b in zip(game_val, opt_val)]\n",
    "                    count +=1\n",
    "            del game_keys[player_num]\n",
    "        run_next = True\n",
    "    opt_val = [a/count for a in opt_val]\n",
    "    return tree, opt_val"
   ]
  },
  {
   "cell_type": "markdown",
   "metadata": {},
   "source": [
    "### Answers to questions a), b) and c)"
   ]
  },
  {
   "cell_type": "markdown",
   "metadata": {},
   "source": [
    "- a) If A chooses 0, then what is the best choice for B?\n",
    "- b) What is the best choice for A?\n",
    "- c) Can you write a program to figure out the best choice for the first player when the game is played among four players?"
   ]
  },
  {
   "cell_type": "markdown",
   "metadata": {},
   "source": [
    "#### Question A"
   ]
  },
  {
   "cell_type": "code",
   "execution_count": 4,
   "metadata": {},
   "outputs": [],
   "source": [
    "question_a = solve_optiver_quiz(3, 1, 0)"
   ]
  },
  {
   "cell_type": "code",
   "execution_count": 5,
   "metadata": {
    "scrolled": true
   },
   "outputs": [
    {
     "name": "stdout",
     "output_type": "stream",
     "text": [
      "If A chooses 0, then the best choice for B is: [67]\n"
     ]
    }
   ],
   "source": [
    "print('If A chooses 0, then the best choice for B is: {}'.format(list(question_a[0].keys())))"
   ]
  },
  {
   "cell_type": "markdown",
   "metadata": {},
   "source": [
    "- a) We see that if A chooses 0, then the best choice for B is $\\frac{2}{3}$ (or approx. $67\\%$)."
   ]
  },
  {
   "cell_type": "markdown",
   "metadata": {},
   "source": [
    "#### Question B"
   ]
  },
  {
   "cell_type": "code",
   "execution_count": 6,
   "metadata": {},
   "outputs": [],
   "source": [
    "question_b = solve_optiver_quiz(3)"
   ]
  },
  {
   "cell_type": "code",
   "execution_count": 7,
   "metadata": {},
   "outputs": [
    {
     "name": "stdout",
     "output_type": "stream",
     "text": [
      "The best choice for A is: [25, 75]\n"
     ]
    }
   ],
   "source": [
    "print('The best choice for A is: {}'.format(list(question_b.keys())))"
   ]
  },
  {
   "cell_type": "markdown",
   "metadata": {},
   "source": [
    "- b) The best choices for A (with three players in total) are $\\frac{1}{4}$ and $\\frac{3}{4}$.\n",
    "\n",
    "We can see below the total tree of optimal moves for all three players (every key of the dictionary represents a move for one of the players, the list contained at the end of each entry of the nested dictiorary represents the probabilities of winning for each player, represented in percentage terms). So, for example:\n",
    "\n",
    "{25: {75: {26: [25.5, 49.5, 25.0]\n",
    "\n",
    "means that player A chooses $25\\%$, player B $75\\%$, and player C $26\\%$, and the probabilities of winning are $25.5\\%$ for player A, $49.5\\%$ for player B, and $25\\%$ for player C."
   ]
  },
  {
   "cell_type": "code",
   "execution_count": 8,
   "metadata": {},
   "outputs": [
    {
     "name": "stdout",
     "output_type": "stream",
     "text": [
      "{25: {75: {26: [25.5, 49.5, 25.0],\n",
      "           27: [26.0, 49.0, 25.0],\n",
      "           28: [26.5, 48.5, 25.0],\n",
      "           29: [27.0, 48.0, 25.0],\n",
      "           30: [27.5, 47.5, 25.0],\n",
      "           31: [28.0, 47.0, 25.0],\n",
      "           32: [28.5, 46.5, 25.0],\n",
      "           33: [29.0, 46.0, 25.0],\n",
      "           34: [29.5, 45.5, 25.0],\n",
      "           35: [30.0, 45.0, 25.0],\n",
      "           36: [30.5, 44.5, 25.0],\n",
      "           37: [31.0, 44.0, 25.0],\n",
      "           38: [31.5, 43.5, 25.0],\n",
      "           39: [32.0, 43.0, 25.0],\n",
      "           40: [32.5, 42.5, 25.0],\n",
      "           41: [33.0, 42.0, 25.0],\n",
      "           42: [33.5, 41.5, 25.0],\n",
      "           43: [34.0, 41.0, 25.0],\n",
      "           44: [34.5, 40.5, 25.0],\n",
      "           45: [35.0, 40.0, 25.0],\n",
      "           46: [35.5, 39.5, 25.0],\n",
      "           47: [36.0, 39.0, 25.0],\n",
      "           48: [36.5, 38.5, 25.0],\n",
      "           49: [37.0, 38.0, 25.0],\n",
      "           50: [37.5, 37.5, 25.0],\n",
      "           51: [38.0, 37.0, 25.0],\n",
      "           52: [38.5, 36.5, 25.0],\n",
      "           53: [39.0, 36.0, 25.0],\n",
      "           54: [39.5, 35.5, 25.0],\n",
      "           55: [40.0, 35.0, 25.0],\n",
      "           56: [40.5, 34.5, 25.0],\n",
      "           57: [41.0, 34.0, 25.0],\n",
      "           58: [41.5, 33.5, 25.0],\n",
      "           59: [42.0, 33.0, 25.0],\n",
      "           60: [42.5, 32.5, 25.0],\n",
      "           61: [43.0, 32.0, 25.0],\n",
      "           62: [43.5, 31.5, 25.0],\n",
      "           63: [44.0, 31.0, 25.0],\n",
      "           64: [44.5, 30.5, 25.0],\n",
      "           65: [45.0, 30.0, 25.0],\n",
      "           66: [45.5, 29.5, 25.0],\n",
      "           67: [46.0, 29.0, 25.0],\n",
      "           68: [46.5, 28.5, 25.0],\n",
      "           69: [47.0, 28.0, 25.0],\n",
      "           70: [47.5, 27.5, 25.0],\n",
      "           71: [48.0, 27.0, 25.0],\n",
      "           72: [48.5, 26.5, 25.0],\n",
      "           73: [49.0, 26.0, 25.0],\n",
      "           74: [49.5, 25.5, 25.0]}},\n",
      " 75: {25: {26: [49.5, 25.5, 25.0],\n",
      "           27: [49.0, 26.0, 25.0],\n",
      "           28: [48.5, 26.5, 25.0],\n",
      "           29: [48.0, 27.0, 25.0],\n",
      "           30: [47.5, 27.5, 25.0],\n",
      "           31: [47.0, 28.0, 25.0],\n",
      "           32: [46.5, 28.5, 25.0],\n",
      "           33: [46.0, 29.0, 25.0],\n",
      "           34: [45.5, 29.5, 25.0],\n",
      "           35: [45.0, 30.0, 25.0],\n",
      "           36: [44.5, 30.5, 25.0],\n",
      "           37: [44.0, 31.0, 25.0],\n",
      "           38: [43.5, 31.5, 25.0],\n",
      "           39: [43.0, 32.0, 25.0],\n",
      "           40: [42.5, 32.5, 25.0],\n",
      "           41: [42.0, 33.0, 25.0],\n",
      "           42: [41.5, 33.5, 25.0],\n",
      "           43: [41.0, 34.0, 25.0],\n",
      "           44: [40.5, 34.5, 25.0],\n",
      "           45: [40.0, 35.0, 25.0],\n",
      "           46: [39.5, 35.5, 25.0],\n",
      "           47: [39.0, 36.0, 25.0],\n",
      "           48: [38.5, 36.5, 25.0],\n",
      "           49: [38.0, 37.0, 25.0],\n",
      "           50: [37.5, 37.5, 25.0],\n",
      "           51: [37.0, 38.0, 25.0],\n",
      "           52: [36.5, 38.5, 25.0],\n",
      "           53: [36.0, 39.0, 25.0],\n",
      "           54: [35.5, 39.5, 25.0],\n",
      "           55: [35.0, 40.0, 25.0],\n",
      "           56: [34.5, 40.5, 25.0],\n",
      "           57: [34.0, 41.0, 25.0],\n",
      "           58: [33.5, 41.5, 25.0],\n",
      "           59: [33.0, 42.0, 25.0],\n",
      "           60: [32.5, 42.5, 25.0],\n",
      "           61: [32.0, 43.0, 25.0],\n",
      "           62: [31.5, 43.5, 25.0],\n",
      "           63: [31.0, 44.0, 25.0],\n",
      "           64: [30.5, 44.5, 25.0],\n",
      "           65: [30.0, 45.0, 25.0],\n",
      "           66: [29.5, 45.5, 25.0],\n",
      "           67: [29.0, 46.0, 25.0],\n",
      "           68: [28.5, 46.5, 25.0],\n",
      "           69: [28.0, 47.0, 25.0],\n",
      "           70: [27.5, 47.5, 25.0],\n",
      "           71: [27.0, 48.0, 25.0],\n",
      "           72: [26.5, 48.5, 25.0],\n",
      "           73: [26.0, 49.0, 25.0],\n",
      "           74: [25.5, 49.5, 25.0]}}}\n"
     ]
    }
   ],
   "source": [
    "pprint.pprint(question_b)"
   ]
  },
  {
   "cell_type": "markdown",
   "metadata": {},
   "source": [
    "#### Question C"
   ]
  },
  {
   "cell_type": "code",
   "execution_count": 9,
   "metadata": {},
   "outputs": [],
   "source": [
    "question_c = solve_optiver_quiz(4)"
   ]
  },
  {
   "cell_type": "code",
   "execution_count": 10,
   "metadata": {},
   "outputs": [
    {
     "name": "stdout",
     "output_type": "stream",
     "text": [
      "The best choice for A is: [17, 83]\n"
     ]
    }
   ],
   "source": [
    "print('The best choice for A is: {}'.format(list(question_c.keys())))"
   ]
  },
  {
   "cell_type": "markdown",
   "metadata": {},
   "source": [
    "- c) The best choices for A (when the game is played among four players) are $17\\%$ and $83\\%$. \n",
    "\n",
    "In the cell below you can see the full optimal tree for all four players. These are the optmial moves for all players A, B, C, and D:\n",
    "\n",
    "- player A: the optimal moves are $17\\%$ and $83\\%$;\n",
    "- player B is basically symmetric to player A: player B chooses $83\\%$ if player A chooses $17\\%$, and player B chooses $17\\%$ if player A chooses $83\\%$  \n",
    "- player C: the optimal choice is in the middle of the interval, i.e. $50\\%$;\n",
    "- player D: the optimal choices are: \"just a bit to the left of the player who chooses $17\\%$ \" (in my implementation this means $16\\%$); \"just a bit to the right of the player who chooses $83\\%$\" (i.e. $84\\%$); and everywhere in the middle between player A and player B (i.e. between $17\\%$ and $83\\%$, obviously excluding $17\\%$, $83\\%$ and $50\\%$ beacuse are chosen by the previous players)"
   ]
  },
  {
   "cell_type": "markdown",
   "metadata": {},
   "source": [
    "#### Optimal tree with 4 players"
   ]
  },
  {
   "cell_type": "code",
   "execution_count": 11,
   "metadata": {},
   "outputs": [
    {
     "name": "stdout",
     "output_type": "stream",
     "text": [
      "{17: {83: {50: {16: [17.0, 33.5, 33.0, 16.5],\n",
      "                18: [17.5, 33.5, 32.5, 16.5],\n",
      "                19: [18.0, 33.5, 32.0, 16.5],\n",
      "                20: [18.5, 33.5, 31.5, 16.5],\n",
      "                21: [19.0, 33.5, 31.0, 16.5],\n",
      "                22: [19.5, 33.5, 30.5, 16.5],\n",
      "                23: [20.0, 33.5, 30.0, 16.5],\n",
      "                24: [20.5, 33.5, 29.5, 16.5],\n",
      "                25: [21.0, 33.5, 29.0, 16.5],\n",
      "                26: [21.5, 33.5, 28.5, 16.5],\n",
      "                27: [22.0, 33.5, 28.0, 16.5],\n",
      "                28: [22.5, 33.5, 27.5, 16.5],\n",
      "                29: [23.0, 33.5, 27.0, 16.5],\n",
      "                30: [23.5, 33.5, 26.5, 16.5],\n",
      "                31: [24.0, 33.5, 26.0, 16.5],\n",
      "                32: [24.5, 33.5, 25.5, 16.5],\n",
      "                33: [25.0, 33.5, 25.0, 16.5],\n",
      "                34: [25.5, 33.5, 24.5, 16.5],\n",
      "                35: [26.0, 33.5, 24.0, 16.5],\n",
      "                36: [26.5, 33.5, 23.5, 16.5],\n",
      "                37: [27.0, 33.5, 23.0, 16.5],\n",
      "                38: [27.5, 33.5, 22.5, 16.5],\n",
      "                39: [28.0, 33.5, 22.0, 16.5],\n",
      "                40: [28.5, 33.5, 21.5, 16.5],\n",
      "                41: [29.0, 33.5, 21.0, 16.5],\n",
      "                42: [29.5, 33.5, 20.5, 16.5],\n",
      "                43: [30.0, 33.5, 20.0, 16.5],\n",
      "                44: [30.5, 33.5, 19.5, 16.5],\n",
      "                45: [31.0, 33.5, 19.0, 16.5],\n",
      "                46: [31.5, 33.5, 18.5, 16.5],\n",
      "                47: [32.0, 33.5, 18.0, 16.5],\n",
      "                48: [32.5, 33.5, 17.5, 16.5],\n",
      "                49: [33.0, 33.5, 17.0, 16.5],\n",
      "                51: [33.5, 33.0, 17.0, 16.5],\n",
      "                52: [33.5, 32.5, 17.5, 16.5],\n",
      "                53: [33.5, 32.0, 18.0, 16.5],\n",
      "                54: [33.5, 31.5, 18.5, 16.5],\n",
      "                55: [33.5, 31.0, 19.0, 16.5],\n",
      "                56: [33.5, 30.5, 19.5, 16.5],\n",
      "                57: [33.5, 30.0, 20.0, 16.5],\n",
      "                58: [33.5, 29.5, 20.5, 16.5],\n",
      "                59: [33.5, 29.0, 21.0, 16.5],\n",
      "                60: [33.5, 28.5, 21.5, 16.5],\n",
      "                61: [33.5, 28.0, 22.0, 16.5],\n",
      "                62: [33.5, 27.5, 22.5, 16.5],\n",
      "                63: [33.5, 27.0, 23.0, 16.5],\n",
      "                64: [33.5, 26.5, 23.5, 16.5],\n",
      "                65: [33.5, 26.0, 24.0, 16.5],\n",
      "                66: [33.5, 25.5, 24.5, 16.5],\n",
      "                67: [33.5, 25.0, 25.0, 16.5],\n",
      "                68: [33.5, 24.5, 25.5, 16.5],\n",
      "                69: [33.5, 24.0, 26.0, 16.5],\n",
      "                70: [33.5, 23.5, 26.5, 16.5],\n",
      "                71: [33.5, 23.0, 27.0, 16.5],\n",
      "                72: [33.5, 22.5, 27.5, 16.5],\n",
      "                73: [33.5, 22.0, 28.0, 16.5],\n",
      "                74: [33.5, 21.5, 28.5, 16.5],\n",
      "                75: [33.5, 21.0, 29.0, 16.5],\n",
      "                76: [33.5, 20.5, 29.5, 16.5],\n",
      "                77: [33.5, 20.0, 30.0, 16.5],\n",
      "                78: [33.5, 19.5, 30.5, 16.5],\n",
      "                79: [33.5, 19.0, 31.0, 16.5],\n",
      "                80: [33.5, 18.5, 31.5, 16.5],\n",
      "                81: [33.5, 18.0, 32.0, 16.5],\n",
      "                82: [33.5, 17.5, 32.5, 16.5],\n",
      "                84: [33.5, 17.0, 33.0, 16.5]}}},\n",
      " 83: {17: {50: {16: [33.5, 17.0, 33.0, 16.5],\n",
      "                18: [33.5, 17.5, 32.5, 16.5],\n",
      "                19: [33.5, 18.0, 32.0, 16.5],\n",
      "                20: [33.5, 18.5, 31.5, 16.5],\n",
      "                21: [33.5, 19.0, 31.0, 16.5],\n",
      "                22: [33.5, 19.5, 30.5, 16.5],\n",
      "                23: [33.5, 20.0, 30.0, 16.5],\n",
      "                24: [33.5, 20.5, 29.5, 16.5],\n",
      "                25: [33.5, 21.0, 29.0, 16.5],\n",
      "                26: [33.5, 21.5, 28.5, 16.5],\n",
      "                27: [33.5, 22.0, 28.0, 16.5],\n",
      "                28: [33.5, 22.5, 27.5, 16.5],\n",
      "                29: [33.5, 23.0, 27.0, 16.5],\n",
      "                30: [33.5, 23.5, 26.5, 16.5],\n",
      "                31: [33.5, 24.0, 26.0, 16.5],\n",
      "                32: [33.5, 24.5, 25.5, 16.5],\n",
      "                33: [33.5, 25.0, 25.0, 16.5],\n",
      "                34: [33.5, 25.5, 24.5, 16.5],\n",
      "                35: [33.5, 26.0, 24.0, 16.5],\n",
      "                36: [33.5, 26.5, 23.5, 16.5],\n",
      "                37: [33.5, 27.0, 23.0, 16.5],\n",
      "                38: [33.5, 27.5, 22.5, 16.5],\n",
      "                39: [33.5, 28.0, 22.0, 16.5],\n",
      "                40: [33.5, 28.5, 21.5, 16.5],\n",
      "                41: [33.5, 29.0, 21.0, 16.5],\n",
      "                42: [33.5, 29.5, 20.5, 16.5],\n",
      "                43: [33.5, 30.0, 20.0, 16.5],\n",
      "                44: [33.5, 30.5, 19.5, 16.5],\n",
      "                45: [33.5, 31.0, 19.0, 16.5],\n",
      "                46: [33.5, 31.5, 18.5, 16.5],\n",
      "                47: [33.5, 32.0, 18.0, 16.5],\n",
      "                48: [33.5, 32.5, 17.5, 16.5],\n",
      "                49: [33.5, 33.0, 17.0, 16.5],\n",
      "                51: [33.0, 33.5, 17.0, 16.5],\n",
      "                52: [32.5, 33.5, 17.5, 16.5],\n",
      "                53: [32.0, 33.5, 18.0, 16.5],\n",
      "                54: [31.5, 33.5, 18.5, 16.5],\n",
      "                55: [31.0, 33.5, 19.0, 16.5],\n",
      "                56: [30.5, 33.5, 19.5, 16.5],\n",
      "                57: [30.0, 33.5, 20.0, 16.5],\n",
      "                58: [29.5, 33.5, 20.5, 16.5],\n",
      "                59: [29.0, 33.5, 21.0, 16.5],\n",
      "                60: [28.5, 33.5, 21.5, 16.5],\n",
      "                61: [28.0, 33.5, 22.0, 16.5],\n",
      "                62: [27.5, 33.5, 22.5, 16.5],\n",
      "                63: [27.0, 33.5, 23.0, 16.5],\n",
      "                64: [26.5, 33.5, 23.5, 16.5],\n",
      "                65: [26.0, 33.5, 24.0, 16.5],\n",
      "                66: [25.5, 33.5, 24.5, 16.5],\n",
      "                67: [25.0, 33.5, 25.0, 16.5],\n",
      "                68: [24.5, 33.5, 25.5, 16.5],\n",
      "                69: [24.0, 33.5, 26.0, 16.5],\n",
      "                70: [23.5, 33.5, 26.5, 16.5],\n",
      "                71: [23.0, 33.5, 27.0, 16.5],\n",
      "                72: [22.5, 33.5, 27.5, 16.5],\n",
      "                73: [22.0, 33.5, 28.0, 16.5],\n",
      "                74: [21.5, 33.5, 28.5, 16.5],\n",
      "                75: [21.0, 33.5, 29.0, 16.5],\n",
      "                76: [20.5, 33.5, 29.5, 16.5],\n",
      "                77: [20.0, 33.5, 30.0, 16.5],\n",
      "                78: [19.5, 33.5, 30.5, 16.5],\n",
      "                79: [19.0, 33.5, 31.0, 16.5],\n",
      "                80: [18.5, 33.5, 31.5, 16.5],\n",
      "                81: [18.0, 33.5, 32.0, 16.5],\n",
      "                82: [17.5, 33.5, 32.5, 16.5],\n",
      "                84: [17.0, 33.5, 33.0, 16.5]}}}}\n"
     ]
    }
   ],
   "source": [
    "pprint.pprint(question_c)"
   ]
  }
 ],
 "metadata": {
  "kernelspec": {
   "display_name": "Python 3",
   "language": "python",
   "name": "python3"
  },
  "language_info": {
   "codemirror_mode": {
    "name": "ipython",
    "version": 3
   },
   "file_extension": ".py",
   "mimetype": "text/x-python",
   "name": "python",
   "nbconvert_exporter": "python",
   "pygments_lexer": "ipython3",
   "version": "3.7.0"
  }
 },
 "nbformat": 4,
 "nbformat_minor": 2
}
